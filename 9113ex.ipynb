{
 "cells": [
  {
   "cell_type": "code",
   "execution_count": 4,
   "metadata": {},
   "outputs": [
    {
     "name": "stdout",
     "output_type": "stream",
     "text": [
      "1 0 1 1 \n",
      "1 0 1 0 \n",
      "1 1 0 1 \n",
      "1 0 1 0 \n",
      "0 0 0 1 \n"
     ]
    }
   ],
   "source": [
    "a = ['r','o','t','p', 'c']\n",
    "b = ['proposition', 'math', 'proof', 'discrete']\n",
    "for i in a:\n",
    "    for j in b:\n",
    "        if i in j: print(1, end=' ')\n",
    "        else: print(0, end= ' ')\n",
    "    print()\n"
   ]
  },
  {
   "cell_type": "code",
   "execution_count": 6,
   "metadata": {},
   "outputs": [
    {
     "name": "stdout",
     "output_type": "stream",
     "text": [
      "0 1 0 0 \n",
      "1 0 0 0 \n",
      "0 0 1 0 \n",
      "0 0 0 0 \n"
     ]
    }
   ],
   "source": [
    "R = [(1, 2), (2, 1), (3, 3) ]\n",
    "c = [1,2,3,4]\n",
    "for i in c:\n",
    "    for j in c:\n",
    "        if (i,j) in R: print(1, end=' ')\n",
    "        else: print(0, end=' ')\n",
    "    print()"
   ]
  },
  {
   "cell_type": "code",
   "execution_count": 6,
   "metadata": {},
   "outputs": [
    {
     "name": "stdout",
     "output_type": "stream",
     "text": [
      "(b,b)\n",
      "(c,c)\n",
      "(a,b)\n",
      "(d,c)\n"
     ]
    }
   ],
   "source": [
    "S = [('a', 'b'), ('a', 'c'), ('c', 'd'), ('c', 'a') ]\n",
    "R = [('b', 'c'), ('c', 'b'), ('a', 'd'), ('d', 'b')]\n",
    "for (i,j) in R:\n",
    "    for (m,n) in R:\n",
    "        if j==m: print(\"({0},{1})\".format(i,n))"
   ]
  },
  {
   "cell_type": "code",
   "execution_count": 8,
   "metadata": {},
   "outputs": [
    {
     "name": "stdout",
     "output_type": "stream",
     "text": [
      "(a,a)\n",
      "(a,c)\n",
      "(d,a)\n",
      "(d,c)\n"
     ]
    }
   ],
   "source": [
    "a = [('a','a'), ('a','c'), ('b','d')]\n",
    "b = [('a','a'), ('c','d'),('d','a')]\n",
    "for (i,j) in b:\n",
    "    for (m,n) in a:\n",
    "        if j==m: print(\"({0},{1})\".format(i,n))"
   ]
  },
  {
   "cell_type": "code",
   "execution_count": 10,
   "metadata": {},
   "outputs": [
    {
     "name": "stdout",
     "output_type": "stream",
     "text": [
      "(a,d)\n",
      "(b,a)\n",
      "(c,b)\n",
      "(d,c)\n"
     ]
    }
   ],
   "source": [
    "s = [('a','b'), ('b','c'), ('c','d'), ('d','a')]\n",
    "t = []\n",
    "for (i,j) in s:\n",
    "    for (m,n) in s:\n",
    "        if j==m: t.append((i,n))\n",
    "for (i,j) in t:\n",
    "    for (m,n) in s:\n",
    "        if j==m: print(\"({0},{1})\".format(i,n))"
   ]
  },
  {
   "cell_type": "code",
   "execution_count": 17,
   "metadata": {},
   "outputs": [],
   "source": [
    "g = {(1,2),(1,4),(2,1),(3,4),(4,2)}"
   ]
  },
  {
   "cell_type": "code",
   "execution_count": 12,
   "metadata": {},
   "outputs": [
    {
     "name": "stdout",
     "output_type": "stream",
     "text": [
      "[(1, 2), (1, 4), (1, 1), (2, 1), (2, 2), (3, 1), (4, 2), (4, 4)]\n"
     ]
    }
   ],
   "source": [
    "g3 = []\n",
    "for (i,j) in g2:\n",
    "    for (m,n) in g:\n",
    "        if j==m: g3.append((i,n))\n",
    "print(g3)"
   ]
  },
  {
   "cell_type": "code",
   "execution_count": 18,
   "metadata": {},
   "outputs": [
    {
     "name": "stdout",
     "output_type": "stream",
     "text": [
      "[(1, 2), (1, 4), (3, 1), (2, 1), (2, 2), (4, 2), (4, 4), (1, 1)]\n"
     ]
    }
   ],
   "source": [
    "def t(g, n):\n",
    "    if n==1: return g\n",
    "    else:\n",
    "        gn = []\n",
    "        for (i,j) in t(g, n-1):\n",
    "            for(m,n) in g:\n",
    "                if j==m: gn.append((i,n))\n",
    "        return gn\n",
    "print(t(g, 3))"
   ]
  },
  {
   "cell_type": "code",
   "execution_count": 19,
   "metadata": {},
   "outputs": [
    {
     "name": "stdout",
     "output_type": "stream",
     "text": [
      "[(1, 2), (1, 4), (1, 1), (3, 1), (3, 2), (2, 1), (2, 2), (2, 2), (2, 4), (4, 2), (4, 4), (4, 1), (1, 1), (1, 2)]\n"
     ]
    }
   ],
   "source": [
    "print(t(g,5))"
   ]
  }
 ],
 "metadata": {
  "kernelspec": {
   "display_name": "Python 3",
   "language": "python",
   "name": "python3"
  },
  "language_info": {
   "codemirror_mode": {
    "name": "ipython",
    "version": 3
   },
   "file_extension": ".py",
   "mimetype": "text/x-python",
   "name": "python",
   "nbconvert_exporter": "python",
   "pygments_lexer": "ipython3",
   "version": "3.8.10 (default, Sep 28 2021, 16:10:42) \n[GCC 9.3.0]"
  },
  "orig_nbformat": 4,
  "vscode": {
   "interpreter": {
    "hash": "916dbcbb3f70747c44a77c7bcd40155683ae19c65e1c03b4aa3499c5328201f1"
   }
  }
 },
 "nbformat": 4,
 "nbformat_minor": 2
}
