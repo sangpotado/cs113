{
 "cells": [
  {
   "cell_type": "markdown",
   "id": "f4cf0b07-23ea-4ef9-bc9b-8c96a63ef355",
   "metadata": {},
   "source": [
    "# Recusive Functions\n",
    "\n",
    "Below are the examples from lecture, make sure you understand how they work.  Feel free to add print statements, and try callign the code with different arguments. "
   ]
  },
  {
   "cell_type": "code",
   "execution_count": 1,
   "id": "350b9475-8875-4a70-b549-ceb2f5892678",
   "metadata": {},
   "outputs": [
    {
     "name": "stdout",
     "output_type": "stream",
     "text": [
      "36\n"
     ]
    }
   ],
   "source": [
    "\n",
    "\n",
    "def SumCube(n):\n",
    "    \n",
    "    if(n==1):\n",
    "        return 1\n",
    "    \n",
    "    \n",
    "    s = SumCube(n-1) \n",
    "    return(n*n*n + s)\n",
    "\n",
    "result = SumCube(3)\n",
    "print(result)\n",
    "\n",
    "\n"
   ]
  },
  {
   "cell_type": "code",
   "execution_count": 2,
   "id": "db1169f5-3bb6-4288-b2f4-c1c2f000e758",
   "metadata": {},
   "outputs": [
    {
     "data": {
      "text/plain": [
       "12"
      ]
     },
     "execution_count": 2,
     "metadata": {},
     "output_type": "execute_result"
    }
   ],
   "source": [
    "\n",
    "\n",
    "def FindMin(array):\n",
    "    \n",
    "    # Base case \n",
    "    if len(array) == 1:\n",
    "        return array[0]\n",
    "    \n",
    "    # General case \n",
    "    m = FindMin(array[0:-1])\n",
    "    if (array[-1] < m):\n",
    "        return array[-1]\n",
    "    else:\n",
    "        return m\n",
    "    \n",
    "    \n",
    "list = [57,87,34,54,12,45]\n",
    "FindMin(list)\n"
   ]
  },
  {
   "cell_type": "markdown",
   "id": "fe47fe2f-caa7-45d5-a0d9-522bd41e706f",
   "metadata": {
    "tags": []
   },
   "source": [
    "## 1. Questions about isPalendrom\n",
    "Blow is a recursive algorithm for checking if a string is a palendrom.  \n",
    "In the text area below the code answer:\n",
    "1) What is the base case\n",
    "2) Where is the recursive call and what argument is passed the recursive call \n",
    "3) Explain how this algorithm works, just a few sentences not a full proof.\n",
    "4) How can we be sure the algorithm works for all strings?"
   ]
  },
  {
   "cell_type": "code",
   "execution_count": 3,
   "id": "7c3095dd-03bd-4101-9475-9af5f1e75c02",
   "metadata": {
    "tags": []
   },
   "outputs": [
    {
     "name": "stdout",
     "output_type": "stream",
     "text": [
      "True\n",
      "True\n",
      "False\n"
     ]
    }
   ],
   "source": [
    "\n",
    "\n",
    "def isPalendrom(word):\n",
    "    #  \n",
    "    if len(word) == 0:\n",
    "        return True\n",
    "    \n",
    "    # \n",
    "    if word[0] == word[-1]:\n",
    "        return isPalendrom(word[1:-1])\n",
    "    else:\n",
    "        return False\n",
    "    \n",
    "    \n",
    "    \n",
    "print(isPalendrom(\"racecar\"))\n",
    "print(isPalendrom(\"12344321\"))\n",
    "print(isPalendrom(\"Yosimite\"))\n",
    "    "
   ]
  },
  {
   "cell_type": "raw",
   "id": "c3577400-f78c-4648-9770-c330cd64f714",
   "metadata": {},
   "source": []
  },
  {
   "cell_type": "markdown",
   "id": "4002a790-1d41-4f85-8e3e-ed0b41e30048",
   "metadata": {},
   "source": [
    "# 2. pow function\n",
    "\n",
    "Below right the python for a linear, recusive version of the exponent function.  The first argument should be the base_number and the second should be the exponent.  So pow(2,10) should return 1024. In the text area below that answer the following questions:\n",
    "1) What is the base case\n",
    "2) Where is the recursive call and what argument is passed the recursive call \n",
    "3) Explain how this algorithm works, just a few sentences not a full proof.\n",
    "4) How can we be sure the algorithm works for all strings?"
   ]
  },
  {
   "cell_type": "code",
   "execution_count": 4,
   "id": "94bca6ac-37ce-42ce-9751-22bca2fc8b63",
   "metadata": {},
   "outputs": [
    {
     "name": "stdout",
     "output_type": "stream",
     "text": [
      "0\n",
      "0\n"
     ]
    }
   ],
   "source": [
    "def pow(base_number, exponent):\n",
    "    # Your code goes here.\n",
    "    return 0\n",
    "\n",
    "print(pow(7,2))\n",
    "print(pow(2,10))"
   ]
  },
  {
   "cell_type": "raw",
   "id": "9a4b2429-f90c-4164-bb37-f51e6189d837",
   "metadata": {},
   "source": []
  },
  {
   "cell_type": "markdown",
   "id": "d3107e7d-9e21-403d-8a8e-c46f15e61180",
   "metadata": {},
   "source": [
    "## 3. fastExpRec function\n",
    "\n",
    "Section 5.4.4 describes a fastExpRec recursive function.  Using the sudo code from the text complete the function in python.  In the text area below that answer the questions:\n",
    "1) What is the base case\n",
    "2) Where is the recursive call and what argument is passed the recursive call \n",
    "3) Explain how this algorithm works, just a few sentences not a full proof.\n",
    "4) How can we be sure the algorithm works for all strings?\n",
    "5) How is the fastExpRec different from the pow version? Extra nerd points for using BigO in your explenation.  "
   ]
  },
  {
   "cell_type": "code",
   "execution_count": 5,
   "id": "511cc57c-e0b6-4483-b2d6-36e81b76ccd4",
   "metadata": {},
   "outputs": [
    {
     "name": "stdout",
     "output_type": "stream",
     "text": [
      "0\n",
      "0\n"
     ]
    }
   ],
   "source": [
    "\n",
    "def fastExpRec(base_number, exponent):\n",
    "    # Your code goes here.\n",
    "    return 0\n",
    "\n",
    "print(fastExpRec(7,2))\n",
    "print(fastExpRec(2,10))\n"
   ]
  },
  {
   "cell_type": "markdown",
   "id": "25fa27dd-947c-4711-b6f4-7eee7edc62c0",
   "metadata": {},
   "source": [
    "## 4. factorial function\n",
    "\n",
    "The factorial function returns the factorial value for a number.  For example 5! == 1 * 2 * 3 * 4 * 5 == 120.  You can find many examples of the factorial function on the internet.  Try and code it yourself before googling it.  In the end looking it up on the internet if fine but do not copy and paist code.  Read it, understand it, and write your own version.    \n",
    "\n",
    "In the text area below that answer the same questions:\n",
    "1) What is the base case\n",
    "2) Where is the recursive call and what argument is passed the recursive call \n",
    "3) Explain how this algorithm works, just a few sentences not a full proof.\n",
    "4) How can we be sure the algorithm works for all strings?"
   ]
  },
  {
   "cell_type": "code",
   "execution_count": null,
   "id": "ea9e107a-1720-46e9-9eb4-a97ae55dc872",
   "metadata": {},
   "outputs": [],
   "source": []
  },
  {
   "cell_type": "raw",
   "id": "70bd6fe1-92ad-4d05-8b7c-c00770ec4fcc",
   "metadata": {},
   "source": []
  },
  {
   "cell_type": "markdown",
   "id": "a2dc25ee-1fc0-49c9-879f-9d2f1401e743",
   "metadata": {},
   "source": [
    "# 5. Fibonacci Sequence Function\n",
    "\n",
    "In the Fibonacci sequence each value is the sum of the previous two values.  1, 1, 2, 3, 5, 8, 13 ... Start your sequence with 1, 1.   Like the factorial function you can find many examples of the factorial function on the internet.  Try and code it yourself before googling it.  In the end looking it up on the internet if fine but do not copy and paist code.  Read it, understand it, and write your own version.    \n",
    "\n",
    "In the text area below that answer the same questions:\n",
    "1) What is the base case\n",
    "2) Where is the recursive call and what argument is passed the recursive call \n",
    "3) Explain how this algorithm works, just a few sentences not a full proof.\n",
    "4) How can we be sure the algorithm works for all strings?\n",
    "5) Be careful, if you enter a number that is large it will take a looooong time for the algorithm to execute. Why?"
   ]
  },
  {
   "cell_type": "code",
   "execution_count": null,
   "id": "aff93ff5-950a-4f6b-a661-ec95fb07025a",
   "metadata": {},
   "outputs": [],
   "source": []
  },
  {
   "cell_type": "raw",
   "id": "aa3720ad-787a-47f1-ae0d-98ba737fb220",
   "metadata": {},
   "source": []
  }
 ],
 "metadata": {
  "kernelspec": {
   "display_name": "Python 3 (ipykernel)",
   "language": "python",
   "name": "python3"
  },
  "language_info": {
   "codemirror_mode": {
    "name": "ipython",
    "version": 3
   },
   "file_extension": ".py",
   "mimetype": "text/x-python",
   "name": "python",
   "nbconvert_exporter": "python",
   "pygments_lexer": "ipython3",
   "version": "3.9.6"
  }
 },
 "nbformat": 4,
 "nbformat_minor": 5
}
